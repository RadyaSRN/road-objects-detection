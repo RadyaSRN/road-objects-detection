{
  "cells": [
    {
      "cell_type": "markdown",
      "metadata": {
        "id": "_tvlRKHfjy2W"
      },
      "source": [
        "[![Open In nbviewer](https://img.shields.io/badge/Jupyter-nbviewer-orange?logo=jupyter)](\n",
        "https://nbviewer.org/github/RadyaSRN/road-objects-detection/blob/main/notebooks/road_objects_detection.ipynb)\n",
        "[![Open In Kaggle](https://kaggle.com/static/images/open-in-kaggle.svg)](\n",
        "https://www.kaggle.com/kernels/welcome?src=https://github.com/RadyaSRN/road-objects-detection/blob/main/notebooks/road_objects_detection.ipynb)\n",
        "[![Open In Colab](https://colab.research.google.com/assets/colab-badge.svg)](\n",
        "https://colab.research.google.com/github/RadyaSRN/road-objects-detection/blob/main/notebooks/road_objects_detection.ipynb)\n",
        "[![W&B Report](https://img.shields.io/badge/Weights%20&%20Biases-Report-orange?logo=weightsandbiases)](\n",
        "https://wandb.ai/radyasrn-mipt/CV-spring-2025/reports/CV-spring-2025-road-objects-detection--VmlldzoxNDIxMDgxMg)"
      ]
    },
    {
      "cell_type": "markdown",
      "metadata": {
        "id": "u8Ex6qAbjzRE"
      },
      "source": [
        "<b><font size=5>**Introduction**</font></b>\n",
        "\n",
        "The notebook is divided into two parts, each of which is divided into steps:\n",
        "\n",
        "- [Part 1: Training Detection Models](#part-1-training-detection-models)\n",
        "  - [Step 1.1: Exploratory Data Analysis](#step-11-exploratory-data-analysis)\n",
        "  - [Step 1.2: Model Training](#step-12-model-training)\n",
        "- [Part 2: Applying Model to Real World Video](#part-2-applying-model-to-real-world-video)\n",
        "  - [Step 2.1: Splitting Video into Frames](#step-21-splitting-video-into-frames)\n",
        "  - [Step 2.2: Applying Model to Frames](#step-22-applying-model-to-frames)\n",
        "  - [Step 2.3: Combining Frames into Final Video](#step-23-combining-frames-into-final-video)\n",
        "\n",
        "This notebook presents a pipeline for training **RetinaNet** and **SSD** detection models (part $1$) to apply them to **real world traffic video from Moscow** (part $2$).\n",
        "\n",
        "The project was carried out in a Kaggle environment with a P100 GPU.\n",
        "\n",
        "Let's make the necessary imports:"
      ]
    },
    {
      "cell_type": "code",
      "execution_count": null,
      "metadata": {
        "id": "0mqN8R_ADafS"
      },
      "outputs": [],
      "source": [
        "!pip install pytorch_lightning"
      ]
    },
    {
      "cell_type": "code",
      "execution_count": 3,
      "metadata": {
        "id": "pig1sH15DZCc"
      },
      "outputs": [],
      "source": [
        "# Standard library utilities\n",
        "import os\n",
        "import time\n",
        "from collections import defaultdict\n",
        "from functools import lru_cache\n",
        "from glob import glob\n",
        "\n",
        "# Libraries for data analysis\n",
        "import numpy as np\n",
        "import pandas as pd\n",
        "\n",
        "# Libraries for image processing\n",
        "import albumentations as A\n",
        "import cv2\n",
        "import networkx as nx\n",
        "import torchvision.transforms as transforms\n",
        "from albumentations.pytorch import ToTensorV2\n",
        "from PIL import Image\n",
        "from scipy.ndimage import convolve\n",
        "from scipy.spatial import KDTree\n",
        "from shapely.geometry import LineString\n",
        "from shapely.ops import linemerge\n",
        "from skimage.morphology import skeletonize\n",
        "from sklearn.cluster import DBSCAN\n",
        "from skimage.measure import label, regionprops\n",
        "\n",
        "# Libraries for visualization\n",
        "import matplotlib.patches as patches\n",
        "import matplotlib.pyplot as plt\n",
        "import seaborn as sns\n",
        "from IPython.display import clear_output\n",
        "sns.set()\n",
        "\n",
        "# Libraries for learning\n",
        "import pytorch_lightning as pl\n",
        "import torch\n",
        "import torch.optim as optim\n",
        "import torchmetrics\n",
        "import torchvision\n",
        "import wandb\n",
        "from pytorch_lightning.callbacks import ModelCheckpoint, TQDMProgressBar\n",
        "from sklearn.metrics import jaccard_score\n",
        "from sklearn.model_selection import train_test_split\n",
        "from torch import nn\n",
        "from torch.utils.data import Dataset, DataLoader\n",
        "from torchmetrics.detection.mean_ap import MeanAveragePrecision\n",
        "from torchmetrics.classification import JaccardIndex, BinaryJaccardIndex\n",
        "from torchvision import models\n",
        "from tqdm.notebook import tqdm\n",
        "\n",
        "# Libraries for networking and authorization\n",
        "import gdown\n",
        "import requests\n",
        "from io import BytesIO\n",
        "from google.colab import auth\n",
        "from oauth2client.client import GoogleCredentials\n",
        "from pydrive2.auth import GoogleAuth\n",
        "from pydrive2.drive import GoogleDrive\n",
        "\n",
        "# Disabling warnings\n",
        "import warnings\n",
        "warnings.filterwarnings('ignore')\n",
        "\n",
        "# Models, dataset and utils\n",
        "from src.models import RetinaNetLightningModel, SSDLightningModel\n",
        "from src.dataset import ObjectionDetectionDataset\n",
        "from src.utils import iou, write_frames_with_masks, combine_frames_into_video"
      ]
    },
    {
      "cell_type": "markdown",
      "metadata": {
        "id": "hgqNx_hshvh0"
      },
      "source": [
        "---\n",
        "<a name=\"part-1-training-detection-models\"></a>\n",
        "# <b><font size=5>**Part $1$:**</font></b>"
      ]
    },
    {
      "cell_type": "markdown",
      "metadata": {
        "id": "rJgshvs7Cwc-"
      },
      "source": [
        "In this part, we will examine the used dataset and train detection models."
      ]
    },
    {
      "cell_type": "markdown",
      "metadata": {
        "id": "ixG3xxEvhvh0"
      },
      "source": [
        "<a name=\"step-11-exploratory-data-analysis\"></a>\n",
        "<b><font size=3>**Step $1.1$:**</font></b>"
      ]
    },
    {
      "cell_type": "markdown",
      "metadata": {
        "id": "VG7bW3E2hvh0"
      },
      "source": [
        "In this step, we perform exploratory data analysis on our selected dataset.\n",
        "\n",
        "We will use [Traffic Road Object Detection Polish 12k](https://www.kaggle.com/datasets/mikoajkoek/traffic-road-object-detection-polish-12k), which contains 11$ classes that are quite common on roads. Let's download it:"
      ]
    },
    {
      "cell_type": "code",
      "execution_count": null,
      "metadata": {
        "id": "k_L8ro4nhvh0",
        "trusted": true
      },
      "outputs": [],
      "source": [
        "import kagglehub\n",
        "\n",
        "# Download latest version\n",
        "path = kagglehub.dataset_download(\"mikoajkoek/traffic-road-object-detection-polish-12k\")\n",
        "\n",
        "print(\"Path to dataset files:\", path)"
      ]
    },
    {
      "cell_type": "markdown",
      "metadata": {
        "id": "v2jnfT4fhvh1"
      },
      "source": [
        "Let's take a look at the image files:"
      ]
    },
    {
      "cell_type": "code",
      "execution_count": null,
      "metadata": {
        "execution": {
          "iopub.execute_input": "2025-04-09T07:32:55.406314Z",
          "iopub.status.busy": "2025-04-09T07:32:55.405958Z",
          "iopub.status.idle": "2025-04-09T07:32:55.628371Z",
          "shell.execute_reply": "2025-04-09T07:32:55.627507Z",
          "shell.execute_reply.started": "2025-04-09T07:32:55.406284Z"
        },
        "id": "YxqksfYmhvh1",
        "outputId": "b2662124-52a9-4853-baf4-70e1caf5bdbf",
        "trusted": true
      },
      "outputs": [
        {
          "name": "stdout",
          "output_type": "stream",
          "text": [
            "Film100-Wykonano-za-pomoca-Clipchamp_mp4-0000_jpg.rf.0cf604913d4b57b9350c575fa4a1694a_aug_out_0.png\n",
            "Film100-Wykonano-za-pomoca-Clipchamp_mp4-0000_jpg.rf.0cf604913d4b57b9350c575fa4a1694a_aug_out_1.png\n",
            "Film100-Wykonano-za-pomoca-Clipchamp_mp4-0000_jpg.rf.0cf604913d4b57b9350c575fa4a1694a.jpg\n",
            "Film100-Wykonano-za-pomoca-Clipchamp_mp4-0000_jpg.rf.3066702898a6628a5a3adf2f526f758e_aug_out_0.png\n",
            "Film100-Wykonano-za-pomoca-Clipchamp_mp4-0000_jpg.rf.3066702898a6628a5a3adf2f526f758e_aug_out_1.png\n",
            "Film100-Wykonano-za-pomoca-Clipchamp_mp4-0000_jpg.rf.3066702898a6628a5a3adf2f526f758e.jpg\n",
            "Film100-Wykonano-za-pomoca-Clipchamp_mp4-0000_jpg.rf.78649a8cfa8157ccba636aa2be0ed028_aug_out_0.png\n",
            "Film100-Wykonano-za-pomoca-Clipchamp_mp4-0000_jpg.rf.78649a8cfa8157ccba636aa2be0ed028_aug_out_1.png\n",
            "Film100-Wykonano-za-pomoca-Clipchamp_mp4-0000_jpg.rf.78649a8cfa8157ccba636aa2be0ed028.jpg\n",
            "Film100-Wykonano-za-pomoca-Clipchamp_mp4-0004_jpg.rf.102c148201a90564d1a7adcff5df92f7_aug_out_0.png\n",
            "ls: write error: Broken pipe\n"
          ]
        }
      ],
      "source": [
        "!ls /kaggle/input/traffic-road-object-detection-polish-12k/road_detection/road_detection/train/images | head -10"
      ]
    },
    {
      "cell_type": "markdown",
      "metadata": {
        "id": "-uZmNvE4hvh1"
      },
      "source": [
        "Let's take a look at the mask files:"
      ]
    },
    {
      "cell_type": "code",
      "execution_count": null,
      "metadata": {
        "execution": {
          "iopub.execute_input": "2025-04-09T07:33:03.835702Z",
          "iopub.status.busy": "2025-04-09T07:33:03.835326Z",
          "iopub.status.idle": "2025-04-09T07:33:04.054850Z",
          "shell.execute_reply": "2025-04-09T07:33:04.053914Z",
          "shell.execute_reply.started": "2025-04-09T07:33:03.835674Z"
        },
        "id": "JwpqGXX_hvh1",
        "outputId": "cda2268a-91b1-48b4-fa50-eaee0e063c01",
        "trusted": true
      },
      "outputs": [
        {
          "name": "stdout",
          "output_type": "stream",
          "text": [
            "Film100-Wykonano-za-pomoca-Clipchamp_mp4-0000_jpg.rf.0cf604913d4b57b9350c575fa4a1694a_aug_out_0.txt\n",
            "Film100-Wykonano-za-pomoca-Clipchamp_mp4-0000_jpg.rf.0cf604913d4b57b9350c575fa4a1694a_aug_out_1.txt\n",
            "Film100-Wykonano-za-pomoca-Clipchamp_mp4-0000_jpg.rf.0cf604913d4b57b9350c575fa4a1694a.txt\n",
            "Film100-Wykonano-za-pomoca-Clipchamp_mp4-0000_jpg.rf.3066702898a6628a5a3adf2f526f758e_aug_out_0.txt\n",
            "Film100-Wykonano-za-pomoca-Clipchamp_mp4-0000_jpg.rf.3066702898a6628a5a3adf2f526f758e_aug_out_1.txt\n",
            "Film100-Wykonano-za-pomoca-Clipchamp_mp4-0000_jpg.rf.3066702898a6628a5a3adf2f526f758e.txt\n",
            "Film100-Wykonano-za-pomoca-Clipchamp_mp4-0000_jpg.rf.78649a8cfa8157ccba636aa2be0ed028_aug_out_0.txt\n",
            "Film100-Wykonano-za-pomoca-Clipchamp_mp4-0000_jpg.rf.78649a8cfa8157ccba636aa2be0ed028_aug_out_1.txt\n",
            "Film100-Wykonano-za-pomoca-Clipchamp_mp4-0000_jpg.rf.78649a8cfa8157ccba636aa2be0ed028.txt\n",
            "Film100-Wykonano-za-pomoca-Clipchamp_mp4-0004_jpg.rf.102c148201a90564d1a7adcff5df92f7_aug_out_0.txt\n",
            "ls: write error: Broken pipe\n"
          ]
        }
      ],
      "source": [
        "!ls /kaggle/input/traffic-road-object-detection-polish-12k/road_detection/road_detection/train/labels | head -10"
      ]
    },
    {
      "cell_type": "markdown",
      "metadata": {
        "id": "rFpWnkodhvh1"
      },
      "source": [
        "Let's take a look at one of the mask files inside:"
      ]
    },
    {
      "cell_type": "code",
      "execution_count": null,
      "metadata": {
        "execution": {
          "iopub.execute_input": "2025-04-09T07:33:40.489984Z",
          "iopub.status.busy": "2025-04-09T07:33:40.489630Z",
          "iopub.status.idle": "2025-04-09T07:33:40.632010Z",
          "shell.execute_reply": "2025-04-09T07:33:40.630880Z",
          "shell.execute_reply.started": "2025-04-09T07:33:40.489957Z"
        },
        "id": "IuwuvZiOhvh1",
        "outputId": "f14b4249-1cd2-4232-ccbf-9d70add134c0",
        "trusted": true
      },
      "outputs": [
        {
          "name": "stdout",
          "output_type": "stream",
          "text": [
            "0  0.03551081081081084  0.7060230547550432  0.07102162162162168  0.08468299711815563\n",
            "0  0.08961081081081086  0.6889048991354467  0.06420540540540551  0.054048991354466835\n",
            "0  0.1399675675675676  0.6866426512968299  0.05407567567567566  0.053155619596541914\n",
            "0  0.220054054054054  0.6897982708933718  0.0493405405405406  0.04864553314121034\n",
            "0  0.3075891891891892  0.6722334293948127  0.04460540540540542  0.06216138328530274\n",
            "0  0.44682162162162153  0.7456484149855906  0.20817297297297288  0.22521613832853016\n",
            "8  0.6403027027027027  0.5043371757925071  0.05665945945945916  0.06886167146974054\n",
            "6  0.6455783783783784  0.5683861671469741  0.04943783783783784  0.06367435158501444\n",
            "1  0.600854054054054  0.5831844380403458  0.051113513513513675  0.050345821325648465\n",
            "1  0.5566918918918918  0.6331700288184438  0.022778378378378594  0.030360230547550326\n"
          ]
        }
      ],
      "source": [
        "!cat /kaggle/input/traffic-road-object-detection-polish-12k/road_detection/road_detection/train/labels/Film100-Wykonano-za-pomoca-Clipchamp_mp4-0000_jpg.rf.0cf604913d4b57b9350c575fa4a1694a_aug_out_0.txt"
      ]
    },
    {
      "cell_type": "markdown",
      "metadata": {
        "id": "uGKU7S3dhvh1"
      },
      "source": [
        "Let's look at the list of classes and information about them:"
      ]
    },
    {
      "cell_type": "code",
      "execution_count": null,
      "metadata": {
        "execution": {
          "iopub.execute_input": "2025-04-09T11:24:57.104803Z",
          "iopub.status.busy": "2025-04-09T11:24:57.104490Z",
          "iopub.status.idle": "2025-04-09T11:24:57.144839Z",
          "shell.execute_reply": "2025-04-09T11:24:57.144174Z",
          "shell.execute_reply.started": "2025-04-09T11:24:57.104776Z"
        },
        "id": "3q5033Vlhvh1",
        "outputId": "a2796611-459d-41d3-db66-1f874311d0db",
        "trusted": true
      },
      "outputs": [
        {
          "data": {
            "text/html": [
              "<div>\n",
              "<style scoped>\n",
              "    .dataframe tbody tr th:only-of-type {\n",
              "        vertical-align: middle;\n",
              "    }\n",
              "\n",
              "    .dataframe tbody tr th {\n",
              "        vertical-align: top;\n",
              "    }\n",
              "\n",
              "    .dataframe thead th {\n",
              "        text-align: right;\n",
              "    }\n",
              "</style>\n",
              "<table border=\"1\" class=\"dataframe\">\n",
              "  <thead>\n",
              "    <tr style=\"text-align: right;\">\n",
              "      <th></th>\n",
              "      <th>Set</th>\n",
              "      <th>Photos</th>\n",
              "      <th>Car</th>\n",
              "      <th>Different-Traffic-Sign</th>\n",
              "      <th>Red-Traffic-Light</th>\n",
              "      <th>Pedestrian</th>\n",
              "      <th>Warning-Sign</th>\n",
              "      <th>Pedestrian-Crossing</th>\n",
              "      <th>Green-Traffic-Light</th>\n",
              "      <th>Prohibition-Sign</th>\n",
              "      <th>Truck</th>\n",
              "      <th>Speed-Limit-Sign</th>\n",
              "      <th>Motorcycle</th>\n",
              "    </tr>\n",
              "  </thead>\n",
              "  <tbody>\n",
              "    <tr>\n",
              "      <th>0</th>\n",
              "      <td>Test Set</td>\n",
              "      <td>166</td>\n",
              "      <td>687</td>\n",
              "      <td>547</td>\n",
              "      <td>163</td>\n",
              "      <td>137</td>\n",
              "      <td>79</td>\n",
              "      <td>82</td>\n",
              "      <td>52</td>\n",
              "      <td>48</td>\n",
              "      <td>66</td>\n",
              "      <td>22</td>\n",
              "      <td>4</td>\n",
              "    </tr>\n",
              "    <tr>\n",
              "      <th>1</th>\n",
              "      <td>Train Set</td>\n",
              "      <td>1178</td>\n",
              "      <td>4766</td>\n",
              "      <td>3370</td>\n",
              "      <td>805</td>\n",
              "      <td>812</td>\n",
              "      <td>544</td>\n",
              "      <td>476</td>\n",
              "      <td>402</td>\n",
              "      <td>396</td>\n",
              "      <td>409</td>\n",
              "      <td>230</td>\n",
              "      <td>38</td>\n",
              "    </tr>\n",
              "    <tr>\n",
              "      <th>2</th>\n",
              "      <td>Validation Set</td>\n",
              "      <td>327</td>\n",
              "      <td>1343</td>\n",
              "      <td>945</td>\n",
              "      <td>232</td>\n",
              "      <td>228</td>\n",
              "      <td>163</td>\n",
              "      <td>112</td>\n",
              "      <td>87</td>\n",
              "      <td>112</td>\n",
              "      <td>137</td>\n",
              "      <td>59</td>\n",
              "      <td>10</td>\n",
              "    </tr>\n",
              "    <tr>\n",
              "      <th>3</th>\n",
              "      <td>Test Set (Augmented)</td>\n",
              "      <td>996</td>\n",
              "      <td>4122</td>\n",
              "      <td>3282</td>\n",
              "      <td>978</td>\n",
              "      <td>822</td>\n",
              "      <td>474</td>\n",
              "      <td>492</td>\n",
              "      <td>312</td>\n",
              "      <td>288</td>\n",
              "      <td>396</td>\n",
              "      <td>132</td>\n",
              "      <td>24</td>\n",
              "    </tr>\n",
              "    <tr>\n",
              "      <th>4</th>\n",
              "      <td>Train Set (Augmented)</td>\n",
              "      <td>7068</td>\n",
              "      <td>28596</td>\n",
              "      <td>20220</td>\n",
              "      <td>4830</td>\n",
              "      <td>4872</td>\n",
              "      <td>3264</td>\n",
              "      <td>2856</td>\n",
              "      <td>2412</td>\n",
              "      <td>2376</td>\n",
              "      <td>2454</td>\n",
              "      <td>1380</td>\n",
              "      <td>228</td>\n",
              "    </tr>\n",
              "    <tr>\n",
              "      <th>5</th>\n",
              "      <td>Validation Set (Augmented)</td>\n",
              "      <td>1962</td>\n",
              "      <td>8058</td>\n",
              "      <td>5670</td>\n",
              "      <td>1392</td>\n",
              "      <td>1368</td>\n",
              "      <td>978</td>\n",
              "      <td>672</td>\n",
              "      <td>522</td>\n",
              "      <td>672</td>\n",
              "      <td>822</td>\n",
              "      <td>354</td>\n",
              "      <td>60</td>\n",
              "    </tr>\n",
              "  </tbody>\n",
              "</table>\n",
              "</div>"
            ],
            "text/plain": [
              "                          Set  Photos    Car  Different-Traffic-Sign  \\\n",
              "0                    Test Set     166    687                     547   \n",
              "1                   Train Set    1178   4766                    3370   \n",
              "2              Validation Set     327   1343                     945   \n",
              "3        Test Set (Augmented)     996   4122                    3282   \n",
              "4       Train Set (Augmented)    7068  28596                   20220   \n",
              "5  Validation Set (Augmented)    1962   8058                    5670   \n",
              "\n",
              "   Red-Traffic-Light  Pedestrian  Warning-Sign  Pedestrian-Crossing  \\\n",
              "0                163         137            79                   82   \n",
              "1                805         812           544                  476   \n",
              "2                232         228           163                  112   \n",
              "3                978         822           474                  492   \n",
              "4               4830        4872          3264                 2856   \n",
              "5               1392        1368           978                  672   \n",
              "\n",
              "   Green-Traffic-Light  Prohibition-Sign  Truck  Speed-Limit-Sign  Motorcycle  \n",
              "0                   52                48     66                22           4  \n",
              "1                  402               396    409               230          38  \n",
              "2                   87               112    137                59          10  \n",
              "3                  312               288    396               132          24  \n",
              "4                 2412              2376   2454              1380         228  \n",
              "5                  522               672    822               354          60  "
            ]
          },
          "execution_count": 3,
          "metadata": {},
          "output_type": "execute_result"
        }
      ],
      "source": [
        "dataset_data_df = pd.read_csv(f'{path}/data.csv')\n",
        "dataset_data_df"
      ]
    },
    {
      "cell_type": "markdown",
      "metadata": {
        "id": "u3ZhekPWhvh1"
      },
      "source": [
        "We can see that there is no underrepresentation of classes, except perhaps for motorcycles. For simplicity, we will not use all classes in this project; we will combine certain classes together. Therefore, based on what we have seen, we will make two mappings: `CLASS_NAMES` in `/src/dataset.py` and `CLASS_MAPPING` in `/src/utils.py`:\n",
        "\n",
        "```python\n",
        "CLASS_NAMES = {\n",
        "  0: 'Car',\n",
        "  1: 'Pedestrian',\n",
        "  2: 'Motorcycle',\n",
        "  3: 'Traffic-Sign',\n",
        "  4: 'Traffic-Light'\n",
        "}\n",
        "\n",
        "CLASS_MAPPING = {\n",
        "  0: 0,  # Car\n",
        "  1: 3,  # Different-Traffic-Sign\n",
        "  2: 4,  # Red-Traffic-Light\n",
        "  3: 1,  # Pedestrian\n",
        "  4: 3,  # Warning-Sign\n",
        "  6: 4,  # Green-Traffic-Light\n",
        "  7: 3,  # Prohibition-Sign\n",
        "  8: 0,  # Truck\n",
        "  9: 3,  # Speed-Limit-Sign\n",
        "  10: 2  # Motorcycle\n",
        "}\n",
        "```"
      ]
    },
    {
      "cell_type": "markdown",
      "metadata": {
        "id": "es14uELWhvh1"
      },
      "source": [
        "<a name=\"step-12-model-training\"></a>\n",
        "<b><font size=3>**Step $1.2$:**</font></b>"
      ]
    },
    {
      "cell_type": "markdown",
      "metadata": {
        "id": "3Qx-40Kzhvh1"
      },
      "source": [
        "In this step, we will train RetinaNet, as this model is notable for producing few false positives and recognizing small objects well (meaning that in the real world, we can know about an approaching car well in advance).\n",
        "\n",
        "We will set the transformations from Albumentations. We will not make the transformations too drastic, because photos from the camera are still taken under normal conditions in a standard horizontal orientation. We will also add normalization for the backbone of our model in the form of `ResNet-50-FPN`. After that, we will define the loaders:"
      ]
    },
    {
      "cell_type": "code",
      "execution_count": null,
      "metadata": {
        "execution": {
          "iopub.execute_input": "2025-04-09T11:48:10.634033Z",
          "iopub.status.busy": "2025-04-09T11:48:10.633680Z",
          "iopub.status.idle": "2025-04-09T11:48:10.656624Z",
          "shell.execute_reply": "2025-04-09T11:48:10.655776Z",
          "shell.execute_reply.started": "2025-04-09T11:48:10.634002Z"
        },
        "id": "lxSTagOmhvh1",
        "trusted": true
      },
      "outputs": [],
      "source": [
        "train_transforms_detection = A.Compose([\n",
        "  A.LongestMaxSize(1024),\n",
        "  A.PadIfNeeded(min_height=1024, min_width=1024, border_mode=0, value=0),\n",
        "  A.HorizontalFlip(p=0.5),\n",
        "  A.RandomBrightnessContrast(p=0.3),\n",
        "  A.RandomGamma(p=0.3),\n",
        "  A.CLAHE(p=0.2),\n",
        "  A.GaussianBlur(blur_limit=(3, 5), p=0.2),\n",
        "  A.ShiftScaleRotate(p=0.3),\n",
        "  A.Normalize(mean=(0.485, 0.456, 0.406),\n",
        "              std=(0.229, 0.224, 0.225)),\n",
        "  ToTensorV2(),\n",
        "], bbox_params=A.BboxParams(\n",
        "  format='pascal_voc',\n",
        "  label_fields=['labels'],\n",
        "  min_visibility=0.0,\n",
        "  check_each_transform=False,\n",
        "  clip=True\n",
        "))\n",
        "\n",
        "val_transforms_detection = A.Compose([\n",
        "  A.LongestMaxSize(1024),\n",
        "  A.PadIfNeeded(min_height=1024, min_width=1024, border_mode=0, value=0),\n",
        "  A.Normalize(mean=(0.485, 0.456, 0.406),\n",
        "              std=(0.229, 0.224, 0.225)),\n",
        "  ToTensorV2(),\n",
        "], bbox_params=A.BboxParams(\n",
        "  format='pascal_voc',\n",
        "  label_fields=['labels'],\n",
        "  min_visibility=0.0,\n",
        "  check_each_transform=False,\n",
        "  clip=True\n",
        "))\n",
        "\n",
        "full_dataset_path = f'{path}/road_detection/road_detection'\n",
        "\n",
        "train_dataset_detection = ObjectionDetectionDataset(f'{full_dataset_path}/train/images', f'{full_dataset_path}/train/labels', train_transforms_detection)\n",
        "val_dataset_detection = ObjectionDetectionDataset(f'{full_dataset_path}/valid/images', f'{full_dataset_path}/valid/labels', val_transforms_detection)\n",
        "\n",
        "batch_size_detection = 12\n",
        "\n",
        "num_workers = max(os.cpu_count() - 2, 1)\n",
        "\n",
        "train_loader_detection = torch.utils.data.DataLoader(\n",
        "    train_dataset_detection,\n",
        "    batch_size=batch_size_detection,\n",
        "    shuffle=True,\n",
        "    collate_fn=lambda x: tuple(zip(*x)),\n",
        "    num_workers=num_workers,\n",
        "    pin_memory=True\n",
        ")\n",
        "val_loader_detection = torch.utils.data.DataLoader(\n",
        "    val_dataset_detection,\n",
        "    batch_size=batch_size_detection,\n",
        "    shuffle=False,\n",
        "    collate_fn=lambda x: tuple(zip(*x)),\n",
        "    num_workers=num_workers,\n",
        "    pin_memory=True\n",
        ")"
      ]
    },
    {
      "cell_type": "markdown",
      "metadata": {
        "id": "NbpGRRfYhvh1"
      },
      "source": [
        "Let's log in to wandb:"
      ]
    },
    {
      "cell_type": "code",
      "execution_count": null,
      "metadata": {
        "id": "IpC654LEhvh1",
        "trusted": true
      },
      "outputs": [],
      "source": [
        "wandb.login(key='', relogin=True)\n",
        "wandb.finish()"
      ]
    },
    {
      "cell_type": "markdown",
      "metadata": {
        "id": "N3o4-5qZhvh1"
      },
      "source": [
        "We will track Mean Average Precision, or more precisely map50, as this is a classic metric for detection tasks. We will train RetinaNet for $4$ epochs with `lr=1e-4, weight_decay=1e-2`:"
      ]
    },
    {
      "cell_type": "code",
      "execution_count": null,
      "metadata": {
        "id": "EzCIPJ4whvh1",
        "trusted": true
      },
      "outputs": [],
      "source": [
        "wandb.init(project='CV-spring-2025', name='retinanet-run-17')\n",
        "\n",
        "checkpoint_callback_retinanet = pl.callbacks.ModelCheckpoint(\n",
        "  monitor='val_map_50',\n",
        "  mode='max',\n",
        "  dirpath='checkpoints/',\n",
        "  filename='best-retinanet',\n",
        "  save_top_k=1,\n",
        "  save_last=True\n",
        ")\n",
        "\n",
        "torch.set_float32_matmul_precision('medium')\n",
        "torch.backends.cudnn.benchmark = True\n",
        "torch.backends.cuda.matmul.allow_tf32 = True\n",
        "trainer_retinanet = pl.Trainer(\n",
        "  accelerator='gpu',\n",
        "  precision='32-true',\n",
        "  max_epochs=4,\n",
        "  callbacks=[checkpoint_callback_retinanet, TQDMProgressBar(refresh_rate=10)],\n",
        "  logger=pl.loggers.WandbLogger(project='CV-spring-2025', log_model=False)\n",
        ")\n",
        "\n",
        "retinanet_model = RetinaNetLightningModel(lr=1e-4, weight_decay=1e-2)\n",
        "\n",
        "trainer_retinanet.fit(retinanet_model, train_loader_detection, val_loader_detection)"
      ]
    },
    {
      "cell_type": "markdown",
      "metadata": {
        "id": "5mhjh-gNhvh1"
      },
      "source": [
        "Then we will finish the run:"
      ]
    },
    {
      "cell_type": "code",
      "execution_count": null,
      "metadata": {
        "execution": {
          "iopub.execute_input": "2025-04-09T13:41:49.134521Z",
          "iopub.status.busy": "2025-04-09T13:41:49.134208Z",
          "iopub.status.idle": "2025-04-09T13:41:50.683535Z",
          "shell.execute_reply": "2025-04-09T13:41:50.682910Z",
          "shell.execute_reply.started": "2025-04-09T13:41:49.134494Z"
        },
        "id": "aj45Q1-zhvh1",
        "outputId": "c5cac390-26ea-42d2-e39a-5099f180f3c5",
        "trusted": true
      },
      "outputs": [
        {
          "data": {
            "text/html": [],
            "text/plain": [
              "<IPython.core.display.HTML object>"
            ]
          },
          "metadata": {},
          "output_type": "display_data"
        },
        {
          "data": {
            "text/html": [
              "<br>    <style><br>        .wandb-row {<br>            display: flex;<br>            flex-direction: row;<br>            flex-wrap: wrap;<br>            justify-content: flex-start;<br>            width: 100%;<br>        }<br>        .wandb-col {<br>            display: flex;<br>            flex-direction: column;<br>            flex-basis: 100%;<br>            flex: 1;<br>            padding: 10px;<br>        }<br>    </style><br><div class=\"wandb-row\"><div class=\"wandb-col\"><h3>Run history:</h3><br/><table class=\"wandb\"><tr><td>epoch</td><td>▁▁▁▁▁▁▁▁▁▁▃▃▃▃▃▃▃▃▃▃▆▆▆▆▆▆▆▆████████████</td></tr><tr><td>train_loss</td><td>█▇▆▆▄▅▄▅▄▄▃▄▃▃▄▄▂▄▂▃▂▃▂▂▂▂▃▂▁▃▃▂▂▂▂▁▂▂▁▂</td></tr><tr><td>train_map_50</td><td>▁▅▇█</td></tr><tr><td>trainer/global_step</td><td>▁▁▁▁▂▂▂▂▃▃▃▃▃▃▃▄▄▄▄▄▅▅▅▅▅▅▆▆▆▆▇▇▇▇▇▇████</td></tr><tr><td>val_loss</td><td>█▃▃▁</td></tr><tr><td>val_map_50</td><td>▁▆▆█</td></tr></table><br/></div><div class=\"wandb-col\"><h3>Run summary:</h3><br/><table class=\"wandb\"><tr><td>epoch</td><td>3</td></tr><tr><td>train_loss</td><td>0.37271</td></tr><tr><td>train_map_50</td><td>0.64181</td></tr><tr><td>trainer/global_step</td><td>3491</td></tr><tr><td>val_loss</td><td>0.47335</td></tr><tr><td>val_map_50</td><td>0.61523</td></tr></table><br/></div></div>"
            ],
            "text/plain": [
              "<IPython.core.display.HTML object>"
            ]
          },
          "metadata": {},
          "output_type": "display_data"
        },
        {
          "data": {
            "text/html": [
              " View run <strong style=\"color:#cdcd00\">retinanet-run-17</strong> at: <a href='https://wandb.ai/radyasrn-mipt/CV-spring-2025/runs/3udv7srb' target=\"_blank\">https://wandb.ai/radyasrn-mipt/CV-spring-2025/runs/3udv7srb</a><br> View project at: <a href='https://wandb.ai/radyasrn-mipt/CV-spring-2025' target=\"_blank\">https://wandb.ai/radyasrn-mipt/CV-spring-2025</a><br>Synced 5 W&B file(s), 0 media file(s), 0 artifact file(s) and 0 other file(s)"
            ],
            "text/plain": [
              "<IPython.core.display.HTML object>"
            ]
          },
          "metadata": {},
          "output_type": "display_data"
        },
        {
          "data": {
            "text/html": [
              "Find logs at: <code>./wandb/run-20250409_115019-3udv7srb/logs</code>"
            ],
            "text/plain": [
              "<IPython.core.display.HTML object>"
            ]
          },
          "metadata": {},
          "output_type": "display_data"
        }
      ],
      "source": [
        "wandb.finish()"
      ]
    },
    {
      "cell_type": "markdown",
      "metadata": {
        "id": "clwPnxARhvh2"
      },
      "source": [
        "It seems that a little more training could be done to improve quality. Let's train it on `lr=1e-5, weight_decay=1e-2` for $1$ epoch:"
      ]
    },
    {
      "cell_type": "code",
      "execution_count": null,
      "metadata": {
        "execution": {
          "iopub.execute_input": "2025-04-09T13:43:41.355342Z",
          "iopub.status.busy": "2025-04-09T13:43:41.355027Z",
          "iopub.status.idle": "2025-04-09T14:10:06.691173Z",
          "shell.execute_reply": "2025-04-09T14:10:06.690406Z",
          "shell.execute_reply.started": "2025-04-09T13:43:41.355318Z"
        },
        "id": "igevCGHyhvh2",
        "trusted": true
      },
      "outputs": [],
      "source": [
        "wandb.init(project='CV-spring-2025', name='retinanet-run-19')\n",
        "\n",
        "ckpt_path = 'checkpoints/best-retinanet.ckpt'\n",
        "retinanet_model = RetinaNetLightningModel.load_from_checkpoint(\n",
        "    ckpt_path,\n",
        "    lr=1e-5,\n",
        "    weight_decay=1e-2\n",
        ")\n",
        "\n",
        "checkpoint_callback_retinanet = pl.callbacks.ModelCheckpoint(\n",
        "  monitor='val_map_50',\n",
        "  mode='max',\n",
        "  dirpath='checkpoints/',\n",
        "  filename='best-retinanet',\n",
        "  save_top_k=1,\n",
        "  save_last=True\n",
        ")\n",
        "\n",
        "torch.set_float32_matmul_precision('medium')\n",
        "torch.backends.cudnn.benchmark = True\n",
        "torch.backends.cuda.matmul.allow_tf32 = True\n",
        "trainer_retinanet = pl.Trainer(\n",
        "  accelerator='gpu',\n",
        "  precision='32-true',\n",
        "  max_epochs=1,\n",
        "  callbacks=[checkpoint_callback_retinanet, TQDMProgressBar(refresh_rate=10)],\n",
        "  logger=pl.loggers.WandbLogger(project='CV-spring-2025', log_model=False)\n",
        ")\n",
        "\n",
        "trainer_retinanet.fit(retinanet_model, train_loader_detection, val_loader_detection)"
      ]
    },
    {
      "cell_type": "markdown",
      "metadata": {
        "id": "cc3wnS_Thvh2"
      },
      "source": [
        "Then we finish the run:"
      ]
    },
    {
      "cell_type": "code",
      "execution_count": null,
      "metadata": {
        "id": "uX685Ld-hvh2",
        "trusted": true
      },
      "outputs": [],
      "source": [
        "wandb.finish()"
      ]
    },
    {
      "cell_type": "markdown",
      "metadata": {
        "id": "hl3HeO-_hvh2"
      },
      "source": [
        "Let's look at the training history:"
      ]
    },
    {
      "cell_type": "code",
      "execution_count": 5,
      "metadata": {
        "colab": {
          "base_uri": "https://localhost:8080/",
          "height": 501
        },
        "execution": {
          "iopub.execute_input": "2025-04-09T20:32:17.338758Z",
          "iopub.status.busy": "2025-04-09T20:32:17.338344Z",
          "iopub.status.idle": "2025-04-09T20:32:18.819174Z",
          "shell.execute_reply": "2025-04-09T20:32:18.818295Z",
          "shell.execute_reply.started": "2025-04-09T20:32:17.338709Z"
        },
        "id": "evCXu_hHhvh2",
        "outputId": "e575f453-04d1-49c3-9c81-c7da7b9b03c1",
        "trusted": true
      },
      "outputs": [
        {
          "data": {
            "image/png": "[encoded data removed]",
            "text/plain": [
              "<Figure size 1400x500 with 2 Axes>"
            ]
          },
          "metadata": {},
          "output_type": "display_data"
        }
      ],
      "source": [
        "api = wandb.Api()\n",
        "\n",
        "run_retinanet_first = api.run('radyasrn-mipt/CV-spring-2025/3udv7srb')\n",
        "run_retinanet_second = api.run('radyasrn-mipt/CV-spring-2025/shj9ufft')\n",
        "\n",
        "history_retinanet_first = run_retinanet_first.history()\n",
        "history_retinanet_second = run_retinanet_second.history()\n",
        "\n",
        "history_retinanet_first_val_map_50 = history_retinanet_first[~history_retinanet_first['val_map_50'].isna()][['epoch', 'val_map_50']].set_index('epoch')\n",
        "history_retinanet_first_train_map_50 = history_retinanet_first[~history_retinanet_first['train_map_50'].isna()][['epoch', 'train_map_50']].set_index('epoch')\n",
        "\n",
        "history_retinanet_first = history_retinanet_first.fillna(method='ffill')\n",
        "history_retinanet_first = history_retinanet_first.fillna(method='bfill')\n",
        "\n",
        "history_retinanet_first_val_loss = history_retinanet_first[['trainer/global_step', 'val_loss']].set_index('trainer/global_step')\n",
        "history_retinanet_first_train_loss = history_retinanet_first[['trainer/global_step', 'train_loss']].set_index('trainer/global_step')\n",
        "\n",
        "history_retinanet_second_val_map_50 = history_retinanet_second[~history_retinanet_second['val_map_50'].isna()][['epoch', 'val_map_50']].set_index('epoch')\n",
        "history_retinanet_second_val_map_50.index += history_retinanet_first_val_map_50.index[-1]\n",
        "history_retinanet_second_train_map_50 = history_retinanet_second[~history_retinanet_second['train_map_50'].isna()][['epoch', 'train_map_50']].set_index('epoch')\n",
        "history_retinanet_second_train_map_50.index += history_retinanet_first_train_map_50.index[-1]\n",
        "\n",
        "history_retinanet_second = history_retinanet_second.fillna(method='ffill')\n",
        "history_retinanet_second = history_retinanet_second.fillna(method='bfill')\n",
        "\n",
        "history_retinanet_second_val_loss = history_retinanet_second[['trainer/global_step', 'val_loss']].set_index('trainer/global_step')\n",
        "history_retinanet_second_val_loss.index += history_retinanet_first_val_loss.index[-1]\n",
        "history_retinanet_second_train_loss = history_retinanet_second[['trainer/global_step', 'train_loss']].set_index('trainer/global_step')\n",
        "history_retinanet_second_train_loss.index += history_retinanet_first_train_loss.index[-1]\n",
        "\n",
        "retinanet_val_map_50 = pd.concat([history_retinanet_first_val_map_50, history_retinanet_second_val_map_50])\n",
        "retinanet_train_map_50 = pd.concat([history_retinanet_first_train_map_50, history_retinanet_second_train_map_50])\n",
        "retinanet_val_loss = pd.concat([history_retinanet_first_val_loss, history_retinanet_second_val_loss])\n",
        "retinanet_train_loss = pd.concat([history_retinanet_first_train_loss, history_retinanet_second_train_loss])\n",
        "\n",
        "fig, axs = plt.subplots(1, 2, figsize=(14, 5))\n",
        "\n",
        "axs[0].plot(retinanet_train_loss, color='blue', label='Train Loss, RetinaNet')\n",
        "axs[0].plot(retinanet_val_loss, color='orange', label='Val Loss, RetinaNet')\n",
        "axs[0].set_xlabel('trainer/global_step')\n",
        "axs[0].set_ylabel('Loss')\n",
        "axs[0].set_title('Loss, RetinaNet')\n",
        "axs[0].legend()\n",
        "\n",
        "axs[1].plot(retinanet_train_map_50, color='blue', label='Train mAP50, RetinaNet')\n",
        "axs[1].plot(retinanet_val_map_50, color='orange', label='Val mAP50, RetinaNet')\n",
        "axs[1].set_xlabel('epoch')\n",
        "axs[1].set_ylabel('mAP50')\n",
        "axs[1].set_title('mAP50, RetinaNet')\n",
        "axs[1].legend()\n",
        "\n",
        "plt.tight_layout()\n",
        "plt.show()"
      ]
    },
    {
      "cell_type": "markdown",
      "metadata": {
        "id": "O9-9oE03hvh2"
      },
      "source": [
        "Now let's train the SSD. Some of its advantages are its size and inference speed. Let's set a slightly different normalization required for the backbone in the form of `VGG16`. After that, we will define the loaders:"
      ]
    },
    {
      "cell_type": "code",
      "execution_count": null,
      "metadata": {
        "execution": {
          "iopub.execute_input": "2025-04-09T16:57:00.588172Z",
          "iopub.status.busy": "2025-04-09T16:57:00.587814Z",
          "iopub.status.idle": "2025-04-09T16:57:01.095016Z",
          "shell.execute_reply": "2025-04-09T16:57:01.094031Z",
          "shell.execute_reply.started": "2025-04-09T16:57:00.588146Z"
        },
        "id": "MUO9vpjBhvh2",
        "trusted": true
      },
      "outputs": [],
      "source": [
        "train_transforms_detection_ssd = A.Compose([\n",
        "  A.LongestMaxSize(1024),\n",
        "  A.PadIfNeeded(min_height=1024, min_width=1024, border_mode=0, value=0),\n",
        "  A.HorizontalFlip(p=0.5),\n",
        "  A.RandomBrightnessContrast(p=0.3),\n",
        "  A.RandomGamma(p=0.3),\n",
        "  A.CLAHE(p=0.2),\n",
        "  A.GaussianBlur(blur_limit=(3, 5), p=0.2),\n",
        "  A.ShiftScaleRotate(p=0.3),\n",
        "  A.Normalize(mean=(0.48235, 0.45882, 0.40784),\n",
        "              std=(0.00392156862745098, 0.00392156862745098, 0.00392156862745098)),\n",
        "  ToTensorV2(),\n",
        "], bbox_params=A.BboxParams(\n",
        "  format='pascal_voc',\n",
        "  label_fields=['labels'],\n",
        "  min_visibility=0.0,\n",
        "  check_each_transform=False,\n",
        "  clip=True\n",
        "))\n",
        "\n",
        "val_transforms_detection_ssd = A.Compose([\n",
        "  A.LongestMaxSize(1024),\n",
        "  A.PadIfNeeded(min_height=1024, min_width=1024, border_mode=0, value=0),\n",
        "  A.Normalize(mean=(0.48235, 0.45882, 0.40784),\n",
        "              std=(0.00392156862745098, 0.00392156862745098, 0.00392156862745098)),\n",
        "  ToTensorV2(),\n",
        "], bbox_params=A.BboxParams(\n",
        "  format='pascal_voc',\n",
        "  label_fields=['labels'],\n",
        "  min_visibility=0.0,\n",
        "  check_each_transform=False,\n",
        "  clip=True\n",
        "))\n",
        "\n",
        "train_dataset_detection_ssd = ObjectionDetectionDataset(f'{full_dataset_path}/train/images', f'{full_dataset_path}/train/labels', train_transforms_detection_ssd)\n",
        "val_dataset_detection_ssd = ObjectionDetectionDataset(f'{full_dataset_path}/valid/images', f'{full_dataset_path}/valid/labels', val_transforms_detection_ssd)\n",
        "\n",
        "train_loader_detection_ssd = torch.utils.data.DataLoader(\n",
        "    train_dataset_detection_ssd,\n",
        "    batch_size=batch_size_detection,\n",
        "    shuffle=True,\n",
        "    collate_fn=lambda x: tuple(zip(*x)),\n",
        "    num_workers=num_workers,\n",
        "    pin_memory=True\n",
        ")\n",
        "val_loader_detection_ssd = torch.utils.data.DataLoader(\n",
        "    val_dataset_detection_ssd,\n",
        "    batch_size=batch_size_detection,\n",
        "    shuffle=False,\n",
        "    collate_fn=lambda x: tuple(zip(*x)),\n",
        "    num_workers=num_workers,\n",
        "    pin_memory=True\n",
        ")"
      ]
    },
    {
      "cell_type": "markdown",
      "metadata": {
        "id": "PDxNjjcvhvh2"
      },
      "source": [
        "We will train it so that the time is approximately the same as when training RetinaNet (since the models are almost identical in size). We will train it for $10$ epochs with `lr=1e-4, weight_decay=1e-2`:"
      ]
    },
    {
      "cell_type": "code",
      "execution_count": null,
      "metadata": {
        "id": "bbHdsU3Uhvh2",
        "trusted": true
      },
      "outputs": [],
      "source": [
        "wandb.init(project='CV-spring-2025', name='ssd-run-1')\n",
        "\n",
        "checkpoint_callback_ssd = pl.callbacks.ModelCheckpoint(\n",
        "  monitor='val_map_50',\n",
        "  mode='max',\n",
        "  dirpath='checkpoints/',\n",
        "  filename='best-ssd',\n",
        "  save_top_k=1,\n",
        "  save_last=True\n",
        ")\n",
        "\n",
        "torch.set_float32_matmul_precision('medium')\n",
        "torch.backends.cudnn.benchmark = True\n",
        "torch.backends.cuda.matmul.allow_tf32 = True\n",
        "trainer_ssd = pl.Trainer(\n",
        "  accelerator='gpu',\n",
        "  precision='32-true',\n",
        "  max_epochs=10,\n",
        "  callbacks=[checkpoint_callback_ssd, TQDMProgressBar(refresh_rate=10)],\n",
        "  logger=pl.loggers.WandbLogger(project='CV-spring-2025', log_model=False)\n",
        ")\n",
        "\n",
        "ssd_model = SSDLightningModel(lr=1e-4, weight_decay=1e-2)\n",
        "\n",
        "trainer_ssd.fit(ssd_model, train_loader_detection_ssd, val_loader_detection_ssd)"
      ]
    },
    {
      "cell_type": "markdown",
      "metadata": {
        "id": "oBodqplLhvh2"
      },
      "source": [
        "Then we will finish the run:"
      ]
    },
    {
      "cell_type": "code",
      "execution_count": null,
      "metadata": {
        "id": "AnqV2Oaahvh2",
        "trusted": true
      },
      "outputs": [],
      "source": [
        "wandb.finish()"
      ]
    },
    {
      "cell_type": "markdown",
      "metadata": {
        "id": "AvMTbSChhvh2"
      },
      "source": [
        "We will additionally train the model for $6$ epochs at `lr=1e-5, weight_decay=1e-2`, so that the training of this model takes approximately the same amount of time as RetinaNet:"
      ]
    },
    {
      "cell_type": "code",
      "execution_count": null,
      "metadata": {
        "execution": {
          "iopub.execute_input": "2025-04-09T18:56:11.283038Z",
          "iopub.status.busy": "2025-04-09T18:56:11.282666Z",
          "iopub.status.idle": "2025-04-09T20:02:51.587030Z",
          "shell.execute_reply": "2025-04-09T20:02:51.586211Z",
          "shell.execute_reply.started": "2025-04-09T18:56:11.283007Z"
        },
        "id": "ScQLUNSBhvh2",
        "trusted": true
      },
      "outputs": [],
      "source": [
        "wandb.init(project='CV-spring-2025', name='ssd-run-3')\n",
        "\n",
        "ckpt_path = 'checkpoints/best-ssd.ckpt'\n",
        "ssd_model = SSDLightningModel.load_from_checkpoint(\n",
        "    ckpt_path,\n",
        "    lr=1e-5,\n",
        "    weight_decay=1e-2\n",
        ")\n",
        "\n",
        "checkpoint_callback_ssd = pl.callbacks.ModelCheckpoint(\n",
        "  monitor='val_map_50',\n",
        "  mode='max',\n",
        "  dirpath='checkpoints/',\n",
        "  filename='best-ssd',\n",
        "  save_top_k=1,\n",
        "  save_last=True\n",
        ")\n",
        "\n",
        "torch.set_float32_matmul_precision('medium')\n",
        "torch.backends.cudnn.benchmark = True\n",
        "torch.backends.cuda.matmul.allow_tf32 = True\n",
        "trainer_ssd = pl.Trainer(\n",
        "  accelerator='gpu',\n",
        "  precision='32-true',\n",
        "  max_epochs=6,\n",
        "  callbacks=[checkpoint_callback_ssd, TQDMProgressBar(refresh_rate=10)],\n",
        "  logger=pl.loggers.WandbLogger(project='CV-spring-2025', log_model=False)\n",
        ")\n",
        "\n",
        "trainer_ssd.fit(ssd_model, train_loader_detection_ssd, val_loader_detection_ssd)"
      ]
    },
    {
      "cell_type": "markdown",
      "metadata": {
        "id": "bbPoQH4Ohvh2"
      },
      "source": [
        "Then we will finish the run:"
      ]
    },
    {
      "cell_type": "code",
      "execution_count": null,
      "metadata": {
        "id": "gRqBb-17hvh2",
        "trusted": true
      },
      "outputs": [],
      "source": [
        "wandb.finish()"
      ]
    },
    {
      "cell_type": "markdown",
      "metadata": {
        "id": "mL7483f_hvh2"
      },
      "source": [
        "Let's look at the training results for each model:"
      ]
    },
    {
      "cell_type": "code",
      "execution_count": 6,
      "metadata": {
        "colab": {
          "base_uri": "https://localhost:8080/",
          "height": 501
        },
        "execution": {
          "iopub.execute_input": "2025-04-09T20:38:35.058773Z",
          "iopub.status.busy": "2025-04-09T20:38:35.058447Z",
          "iopub.status.idle": "2025-04-09T20:38:36.085947Z",
          "shell.execute_reply": "2025-04-09T20:38:36.085085Z",
          "shell.execute_reply.started": "2025-04-09T20:38:35.058748Z"
        },
        "id": "6RVvL-0Ghvh2",
        "outputId": "ca5bd2bd-a868-49b7-e988-5962539871bc",
        "trusted": true
      },
      "outputs": [
        {
          "data": {
            "image/png": "[encoded data removed]",
            "text/plain": [
              "<Figure size 1400x500 with 2 Axes>"
            ]
          },
          "metadata": {},
          "output_type": "display_data"
        }
      ],
      "source": [
        "run_ssd_first = api.run('radyasrn-mipt/CV-spring-2025/r2gzuxud')\n",
        "run_ssd_second = api.run('radyasrn-mipt/CV-spring-2025/b8bhprsn')\n",
        "\n",
        "history_ssd_first = run_ssd_first.history()\n",
        "history_ssd_second = run_ssd_second.history()\n",
        "\n",
        "history_ssd_first_val_map_50 = history_ssd_first[~history_ssd_first['val_map_50'].isna()][['epoch', 'val_map_50']].set_index('epoch')\n",
        "history_ssd_first_train_map_50 = history_ssd_first[~history_ssd_first['train_map_50'].isna()][['epoch', 'train_map_50']].set_index('epoch')\n",
        "\n",
        "history_ssd_first = history_ssd_first.fillna(method='ffill')\n",
        "history_ssd_first = history_ssd_first.fillna(method='bfill')\n",
        "\n",
        "history_ssd_first_val_loss = history_ssd_first[['trainer/global_step', 'val_loss']].set_index('trainer/global_step')\n",
        "history_ssd_first_train_loss = history_ssd_first[['trainer/global_step', 'train_loss']].set_index('trainer/global_step')\n",
        "\n",
        "history_ssd_second_val_map_50 = history_ssd_second[~history_ssd_second['val_map_50'].isna()][['epoch', 'val_map_50']].set_index('epoch')\n",
        "history_ssd_second_val_map_50.index += history_ssd_first_val_map_50.index[-1]\n",
        "history_ssd_second_train_map_50 = history_ssd_second[~history_ssd_second['train_map_50'].isna()][['epoch', 'train_map_50']].set_index('epoch')\n",
        "history_ssd_second_train_map_50.index += history_ssd_first_train_map_50.index[-1]\n",
        "\n",
        "history_ssd_second = history_ssd_second.fillna(method='ffill')\n",
        "history_ssd_second = history_ssd_second.fillna(method='bfill')\n",
        "\n",
        "history_ssd_second_val_loss = history_ssd_second[['trainer/global_step', 'val_loss']].set_index('trainer/global_step')\n",
        "history_ssd_second_val_loss.index += history_ssd_first_val_loss.index[-1]\n",
        "history_ssd_second_train_loss = history_ssd_second[['trainer/global_step', 'train_loss']].set_index('trainer/global_step')\n",
        "history_ssd_second_train_loss.index += history_ssd_first_train_loss.index[-1]\n",
        "\n",
        "ssd_val_map_50 = pd.concat([history_ssd_first_val_map_50, history_ssd_second_val_map_50])\n",
        "ssd_train_map_50 = pd.concat([history_ssd_first_train_map_50, history_ssd_second_train_map_50])\n",
        "ssd_val_loss = pd.concat([history_ssd_first_val_loss, history_ssd_second_val_loss])\n",
        "ssd_train_loss = pd.concat([history_ssd_first_train_loss, history_ssd_second_train_loss])\n",
        "\n",
        "fig, axs = plt.subplots(1, 2, figsize=(14, 5))\n",
        "\n",
        "axs[0].plot(retinanet_train_loss, color='blue', label='Train Loss, RetinaNet')\n",
        "axs[0].plot(retinanet_val_loss, color='orange', label='Val Loss, RetinaNet')\n",
        "axs[0].plot(ssd_train_loss, color='green', label='Train Loss, SSD')\n",
        "axs[0].plot(ssd_val_loss, color='red', label='Val Loss, SSD')\n",
        "axs[0].set_xlabel('trainer/global_step')\n",
        "axs[0].set_ylabel('Loss')\n",
        "axs[0].set_title('Loss, RetinaNet vs SSD')\n",
        "axs[0].legend()\n",
        "\n",
        "axs[1].plot(retinanet_train_map_50, color='blue', label='Train mAP50, RetinaNet')\n",
        "axs[1].plot(retinanet_val_map_50, color='orange', label='Val mAP50, RetinaNet')\n",
        "axs[1].plot(ssd_train_map_50, color='green', label='Train mAP50, SSD')\n",
        "axs[1].plot(ssd_val_map_50, color='red', label='Val mAP50, SSD')\n",
        "axs[1].set_xlabel('epoch')\n",
        "axs[1].set_ylabel('mAP50')\n",
        "axs[1].set_title('mAP50, RetinaNet vs SSD')\n",
        "axs[1].legend()\n",
        "\n",
        "plt.tight_layout()\n",
        "plt.show()"
      ]
    },
    {
      "cell_type": "markdown",
      "metadata": {
        "id": "o5ulQR9whvh2"
      },
      "source": [
        "We can see that in this project, the RetinaNet model is significantly better than SSD, even though they are roughly the same size and were trained for approximately the same amount of time. For this reason, we will use RetinaNet in the next section.\n"
      ]
    },
    {
      "cell_type": "markdown",
      "metadata": {
        "id": "L8UIz9zjhvh2"
      },
      "source": [
        "---\n",
        "<a name=\"part-2-applying-model-to-real-world-video\"></a>\n",
        "# <b><font size=5>**Part $2$:**</font></b>"
      ]
    },
    {
      "cell_type": "markdown",
      "metadata": {
        "id": "w6yNs8M4DWBX"
      },
      "source": [
        "In this part, we will apply SSD to detect road objects in real world traffic video from Moscow."
      ]
    },
    {
      "cell_type": "markdown",
      "metadata": {
        "id": "IY3btUrLhvh2"
      },
      "source": [
        "<a name=\"step-21-splitting-video-into-frames\"></a>\n",
        "<b><font size=3>**Step $2.1$:**</font></b>"
      ]
    },
    {
      "cell_type": "markdown",
      "metadata": {
        "id": "DDGdKEuHhvh2"
      },
      "source": [
        "In this step, we will split the video into individual frames.\n",
        "\n",
        "We will be using the following [video](https://www.youtube.com/watch?v=adrZBv0kQyg), recorded in Moscow. We install a command line tool for downloading videos from YouTube:"
      ]
    },
    {
      "cell_type": "code",
      "execution_count": null,
      "metadata": {
        "id": "Ie2uoHkYhvh3",
        "trusted": true
      },
      "outputs": [],
      "source": [
        "!pip install -U yt-dlp"
      ]
    },
    {
      "cell_type": "markdown",
      "metadata": {
        "id": "AKgnD1xWhvh3"
      },
      "source": [
        "Let's take a look at the available download formats:"
      ]
    },
    {
      "cell_type": "code",
      "execution_count": null,
      "metadata": {
        "execution": {
          "iopub.execute_input": "2025-04-09T14:59:58.494811Z",
          "iopub.status.busy": "2025-04-09T14:59:58.494438Z",
          "iopub.status.idle": "2025-04-09T15:00:02.583557Z",
          "shell.execute_reply": "2025-04-09T15:00:02.582390Z",
          "shell.execute_reply.started": "2025-04-09T14:59:58.494774Z"
        },
        "id": "jHHO3Qgahvh3",
        "outputId": "052f53d9-61b7-40cb-d1d1-53df7ba378e0",
        "trusted": true
      },
      "outputs": [
        {
          "name": "stdout",
          "output_type": "stream",
          "text": [
            "[youtube] Extracting URL: https://www.youtube.com/watch?v=adrZBv0kQyg\n",
            "[youtube] adrZBv0kQyg: Downloading webpage\n",
            "[youtube] adrZBv0kQyg: Downloading tv client config\n",
            "[youtube] adrZBv0kQyg: Downloading player 73381ccc-main\n",
            "[youtube] adrZBv0kQyg: Downloading tv player API JSON\n",
            "[youtube] adrZBv0kQyg: Downloading ios player API JSON\n",
            "[youtube] adrZBv0kQyg: Downloading m3u8 information\n",
            "[info] Available formats for adrZBv0kQyg:\n",
            "\u001b[0;33mID\u001b[0m      \u001b[0;33mEXT\u001b[0m   \u001b[0;33mRESOLUTION\u001b[0m \u001b[0;33mFPS\u001b[0m \u001b[0;33mCH\u001b[0m \u001b[0;33m\u001b[0;34m│\u001b[0;33m\u001b[0m \u001b[0;33m  FILESIZE\u001b[0m \u001b[0;33m   TBR\u001b[0m \u001b[0;33mPROTO\u001b[0m \u001b[0;33m\u001b[0;34m│\u001b[0;33m\u001b[0m \u001b[0;33mVCODEC\u001b[0m        \u001b[0;33m   VBR\u001b[0m \u001b[0;33mACODEC\u001b[0m     \u001b[0;33m ABR\u001b[0m \u001b[0;33mASR\u001b[0m \u001b[0;33mMORE INFO\u001b[0m\n",
            "\u001b[0;34m─\u001b[0m\u001b[0;34m─\u001b[0m\u001b[0;34m─\u001b[0m\u001b[0;34m─\u001b[0m\u001b[0;34m─\u001b[0m\u001b[0;34m─\u001b[0m\u001b[0;34m─\u001b[0m\u001b[0;34m─\u001b[0m\u001b[0;34m─\u001b[0m\u001b[0;34m─\u001b[0m\u001b[0;34m─\u001b[0m\u001b[0;34m─\u001b[0m\u001b[0;34m─\u001b[0m\u001b[0;34m─\u001b[0m\u001b[0;34m─\u001b[0m\u001b[0;34m─\u001b[0m\u001b[0;34m─\u001b[0m\u001b[0;34m─\u001b[0m\u001b[0;34m─\u001b[0m\u001b[0;34m─\u001b[0m\u001b[0;34m─\u001b[0m\u001b[0;34m─\u001b[0m\u001b[0;34m─\u001b[0m\u001b[0;34m─\u001b[0m\u001b[0;34m─\u001b[0m\u001b[0;34m─\u001b[0m\u001b[0;34m─\u001b[0m\u001b[0;34m─\u001b[0m\u001b[0;34m─\u001b[0m\u001b[0;34m─\u001b[0m\u001b[0;34m─\u001b[0m\u001b[0;34m─\u001b[0m\u001b[0;34m─\u001b[0m\u001b[0;34m─\u001b[0m\u001b[0;34m─\u001b[0m\u001b[0;34m─\u001b[0m\u001b[0;34m─\u001b[0m\u001b[0;34m─\u001b[0m\u001b[0;34m─\u001b[0m\u001b[0;34m─\u001b[0m\u001b[0;34m─\u001b[0m\u001b[0;34m─\u001b[0m\u001b[0;34m─\u001b[0m\u001b[0;34m─\u001b[0m\u001b[0;34m─\u001b[0m\u001b[0;34m─\u001b[0m\u001b[0;34m─\u001b[0m\u001b[0;34m─\u001b[0m\u001b[0;34m─\u001b[0m\u001b[0;34m─\u001b[0m\u001b[0;34m─\u001b[0m\u001b[0;34m─\u001b[0m\u001b[0;34m─\u001b[0m\u001b[0;34m─\u001b[0m\u001b[0;34m─\u001b[0m\u001b[0;34m─\u001b[0m\u001b[0;34m─\u001b[0m\u001b[0;34m─\u001b[0m\u001b[0;34m─\u001b[0m\u001b[0;34m─\u001b[0m\u001b[0;34m─\u001b[0m\u001b[0;34m─\u001b[0m\u001b[0;34m─\u001b[0m\u001b[0;34m─\u001b[0m\u001b[0;34m─\u001b[0m\u001b[0;34m─\u001b[0m\u001b[0;34m─\u001b[0m\u001b[0;34m─\u001b[0m\u001b[0;34m─\u001b[0m\u001b[0;34m─\u001b[0m\u001b[0;34m─\u001b[0m\u001b[0;34m─\u001b[0m\u001b[0;34m─\u001b[0m\u001b[0;34m─\u001b[0m\u001b[0;34m─\u001b[0m\u001b[0;34m─\u001b[0m\u001b[0;34m─\u001b[0m\u001b[0;34m─\u001b[0m\u001b[0;34m─\u001b[0m\u001b[0;34m─\u001b[0m\u001b[0;34m─\u001b[0m\u001b[0;34m─\u001b[0m\u001b[0;34m─\u001b[0m\u001b[0;34m─\u001b[0m\u001b[0;34m─\u001b[0m\u001b[0;34m─\u001b[0m\u001b[0;34m─\u001b[0m\u001b[0;34m─\u001b[0m\u001b[0;34m─\u001b[0m\u001b[0;34m─\u001b[0m\u001b[0;34m─\u001b[0m\u001b[0;34m─\u001b[0m\u001b[0;34m─\u001b[0m\u001b[0;34m─\u001b[0m\u001b[0;34m─\u001b[0m\u001b[0;34m─\u001b[0m\u001b[0;34m─\u001b[0m\u001b[0;34m─\u001b[0m\u001b[0;34m─\u001b[0m\u001b[0;34m─\u001b[0m\u001b[0;34m─\u001b[0m\u001b[0;34m─\u001b[0m\u001b[0;34m─\u001b[0m\u001b[0;34m─\u001b[0m\u001b[0;34m─\u001b[0m\u001b[0;34m─\u001b[0m\u001b[0;34m─\u001b[0m\u001b[0;34m─\u001b[0m\u001b[0;34m─\u001b[0m\u001b[0;34m─\u001b[0m\u001b[0;34m─\u001b[0m\u001b[0;34m─\u001b[0m\u001b[0;34m─\u001b[0m\u001b[0;34m─\u001b[0m\u001b[0;34m─\u001b[0m\u001b[0;34m─\u001b[0m\u001b[0;34m─\u001b[0m\u001b[0;34m─\u001b[0m\u001b[0;34m─\u001b[0m\u001b[0;34m─\u001b[0m\u001b[0;34m─\u001b[0m\u001b[0;34m─\u001b[0m\u001b[0;34m─\u001b[0m\u001b[0;34m─\u001b[0m\u001b[0;34m─\u001b[0m\u001b[0;34m─\u001b[0m\u001b[0;34m─\u001b[0m\u001b[0;34m─\u001b[0m\n",
            "\u001b[0;32msb2\u001b[0m     mhtml 48x27        0    \u001b[0;34m│\u001b[0m                   mhtml \u001b[0;34m│\u001b[0m images                                   storyboard\n",
            "\u001b[0;32msb1\u001b[0m     mhtml 80x45        0    \u001b[0;34m│\u001b[0m                   mhtml \u001b[0;34m│\u001b[0m images                                   storyboard\n",
            "\u001b[0;32msb0\u001b[0m     mhtml 160x90       0    \u001b[0;34m│\u001b[0m                   mhtml \u001b[0;34m│\u001b[0m images                                   storyboard\n",
            "\u001b[0;32m233\u001b[0m     mp4   audio only        \u001b[0;34m│\u001b[0m                   m3u8  \u001b[0;34m│\u001b[0m \u001b[0;90maudio only\u001b[0m           unknown             [en] Default, low\n",
            "\u001b[0;32m234\u001b[0m     mp4   audio only        \u001b[0;34m│\u001b[0m                   m3u8  \u001b[0;34m│\u001b[0m \u001b[0;90maudio only\u001b[0m           unknown             [en] Default, high\n",
            "\u001b[0;32m249-drc\u001b[0m webm  audio only      2 \u001b[0;34m│\u001b[0m   26.46MiB    52k https \u001b[0;34m│\u001b[0m \u001b[0;90maudio only\u001b[0m           opus        52k 48k [en] low, DRC, webm_dash\n",
            "\u001b[0;32m250-drc\u001b[0m webm  audio only      2 \u001b[0;34m│\u001b[0m   34.93MiB    69k https \u001b[0;34m│\u001b[0m \u001b[0;90maudio only\u001b[0m           opus        69k 48k [en] low, DRC, webm_dash\n",
            "\u001b[0;32m249\u001b[0m     webm  audio only      2 \u001b[0;34m│\u001b[0m   26.64MiB    52k https \u001b[0;34m│\u001b[0m \u001b[0;90maudio only\u001b[0m           opus        52k 48k [en] low, webm_dash\n",
            "\u001b[0;32m250\u001b[0m     webm  audio only      2 \u001b[0;34m│\u001b[0m   35.16MiB    69k https \u001b[0;34m│\u001b[0m \u001b[0;90maudio only\u001b[0m           opus        69k 48k [en] low, webm_dash\n",
            "\u001b[0;32m140-drc\u001b[0m m4a   audio only      2 \u001b[0;34m│\u001b[0m   65.76MiB   129k https \u001b[0;34m│\u001b[0m \u001b[0;90maudio only\u001b[0m           mp4a.40.2  129k 44k [en] medium, DRC, m4a_dash\n",
            "\u001b[0;32m251-drc\u001b[0m webm  audio only      2 \u001b[0;34m│\u001b[0m   69.61MiB   137k https \u001b[0;34m│\u001b[0m \u001b[0;90maudio only\u001b[0m           opus       137k 48k [en] medium, DRC, webm_dash\n",
            "\u001b[0;32m140\u001b[0m     m4a   audio only      2 \u001b[0;34m│\u001b[0m   65.76MiB   129k https \u001b[0;34m│\u001b[0m \u001b[0;90maudio only\u001b[0m           mp4a.40.2  129k 44k [en] medium, m4a_dash\n",
            "\u001b[0;32m251\u001b[0m     webm  audio only      2 \u001b[0;34m│\u001b[0m   69.99MiB   138k https \u001b[0;34m│\u001b[0m \u001b[0;90maudio only\u001b[0m           opus       138k 48k [en] medium, webm_dash\n",
            "\u001b[0;32m269\u001b[0m     mp4   256x144     30    \u001b[0;34m│\u001b[0m \u001b[0;90m~ 98.10MiB\u001b[0m   193k m3u8  \u001b[0;34m│\u001b[0m avc1.4D400C     193k \u001b[0;90mvideo only\u001b[0m\n",
            "\u001b[0;32m160\u001b[0m     mp4   256x144     30    \u001b[0;34m│\u001b[0m   55.95MiB   110k https \u001b[0;34m│\u001b[0m avc1.4d400c     110k \u001b[0;90mvideo only\u001b[0m          144p, mp4_dash\n",
            "\u001b[0;32m603\u001b[0m     mp4   256x144     30    \u001b[0;34m│\u001b[0m \u001b[0;90m~ 98.92MiB\u001b[0m   195k m3u8  \u001b[0;34m│\u001b[0m vp09.00.11.08   195k \u001b[0;90mvideo only\u001b[0m\n",
            "\u001b[0;32m278\u001b[0m     webm  256x144     30    \u001b[0;34m│\u001b[0m   49.37MiB    97k https \u001b[0;34m│\u001b[0m vp9              97k \u001b[0;90mvideo only\u001b[0m          144p, webm_dash\n",
            "\u001b[0;32m229\u001b[0m     mp4   426x240     30    \u001b[0;34m│\u001b[0m \u001b[0;90m~182.91MiB\u001b[0m   360k m3u8  \u001b[0;34m│\u001b[0m avc1.4D4015     360k \u001b[0;90mvideo only\u001b[0m\n",
            "\u001b[0;32m133\u001b[0m     mp4   426x240     30    \u001b[0;34m│\u001b[0m  127.03MiB   250k https \u001b[0;34m│\u001b[0m avc1.4d4015     250k \u001b[0;90mvideo only\u001b[0m          240p, mp4_dash\n",
            "\u001b[0;32m604\u001b[0m     mp4   426x240     30    \u001b[0;34m│\u001b[0m \u001b[0;90m~172.18MiB\u001b[0m   339k m3u8  \u001b[0;34m│\u001b[0m vp09.00.20.08   339k \u001b[0;90mvideo only\u001b[0m\n",
            "\u001b[0;32m242\u001b[0m     webm  426x240     30    \u001b[0;34m│\u001b[0m  109.13MiB   215k https \u001b[0;34m│\u001b[0m vp9             215k \u001b[0;90mvideo only\u001b[0m          240p, webm_dash\n",
            "\u001b[0;32m230\u001b[0m     mp4   640x360     30    \u001b[0;34m│\u001b[0m \u001b[0;90m~456.33MiB\u001b[0m   899k m3u8  \u001b[0;34m│\u001b[0m avc1.4D401E     899k \u001b[0;90mvideo only\u001b[0m\n",
            "\u001b[0;32m134\u001b[0m     mp4   640x360     30    \u001b[0;34m│\u001b[0m  301.12MiB   593k https \u001b[0;34m│\u001b[0m avc1.4d401e     593k \u001b[0;90mvideo only\u001b[0m          360p, mp4_dash\n",
            "\u001b[0;32m18\u001b[0m      mp4   640x360     30  2 \u001b[0;34m│\u001b[0m ≈366.55MiB   722k https \u001b[0;34m│\u001b[0m avc1.42001E          mp4a.40.2       44k [en] 360p\n",
            "\u001b[0;32m605\u001b[0m     mp4   640x360     30    \u001b[0;34m│\u001b[0m \u001b[0;90m~429.32MiB\u001b[0m   845k m3u8  \u001b[0;34m│\u001b[0m vp09.00.21.08   845k \u001b[0;90mvideo only\u001b[0m\n",
            "\u001b[0;32m243\u001b[0m     webm  640x360     30    \u001b[0;34m│\u001b[0m  197.91MiB   390k https \u001b[0;34m│\u001b[0m vp9             390k \u001b[0;90mvideo only\u001b[0m          360p, webm_dash\n",
            "\u001b[0;32m231\u001b[0m     mp4   854x480     30    \u001b[0;34m│\u001b[0m \u001b[0;90m~797.07MiB\u001b[0m  1570k m3u8  \u001b[0;34m│\u001b[0m avc1.4D401F    1570k \u001b[0;90mvideo only\u001b[0m\n",
            "\u001b[0;32m135\u001b[0m     mp4   854x480     30    \u001b[0;34m│\u001b[0m  578.35MiB  1139k https \u001b[0;34m│\u001b[0m avc1.4d401f    1139k \u001b[0;90mvideo only\u001b[0m          480p, mp4_dash\n",
            "\u001b[0;32m606\u001b[0m     mp4   854x480     30    \u001b[0;34m│\u001b[0m \u001b[0;90m~785.13MiB\u001b[0m  1546k m3u8  \u001b[0;34m│\u001b[0m vp09.00.30.08  1546k \u001b[0;90mvideo only\u001b[0m\n",
            "\u001b[0;32m244\u001b[0m     webm  854x480     30    \u001b[0;34m│\u001b[0m  375.80MiB   740k https \u001b[0;34m│\u001b[0m vp9             740k \u001b[0;90mvideo only\u001b[0m          480p, webm_dash\n",
            "\u001b[0;32m136\u001b[0m     mp4   1280x720    30    \u001b[0;34m│\u001b[0m    1.14GiB  2303k https \u001b[0;34m│\u001b[0m avc1.4d401f    2303k \u001b[0;90mvideo only\u001b[0m          720p, mp4_dash\n",
            "\u001b[0;32m247\u001b[0m     webm  1280x720    30    \u001b[0;34m│\u001b[0m  796.27MiB  1568k https \u001b[0;34m│\u001b[0m vp9            1568k \u001b[0;90mvideo only\u001b[0m          720p, webm_dash\n",
            "\u001b[0;32m311\u001b[0m     mp4   1280x720    60    \u001b[0;34m│\u001b[0m \u001b[0;90m~  1.92GiB\u001b[0m  3865k m3u8  \u001b[0;34m│\u001b[0m avc1.4D4020    3865k \u001b[0;90mvideo only\u001b[0m\n",
            "\u001b[0;32m298\u001b[0m     mp4   1280x720    60    \u001b[0;34m│\u001b[0m    1.65GiB  3326k https \u001b[0;34m│\u001b[0m avc1.4d4020    3326k \u001b[0;90mvideo only\u001b[0m          720p60, mp4_dash\n",
            "\u001b[0;32m612\u001b[0m     mp4   1280x720    60    \u001b[0;34m│\u001b[0m \u001b[0;90m~  2.64GiB\u001b[0m  5333k m3u8  \u001b[0;34m│\u001b[0m vp09.00.40.08  5333k \u001b[0;90mvideo only\u001b[0m\n",
            "\u001b[0;32m302\u001b[0m     webm  1280x720    60    \u001b[0;34m│\u001b[0m    1.35GiB  2717k https \u001b[0;34m│\u001b[0m vp9            2717k \u001b[0;90mvideo only\u001b[0m          720p60, webm_dash\n",
            "\u001b[0;32m312\u001b[0m     mp4   1920x1080   60    \u001b[0;34m│\u001b[0m \u001b[0;90m~  3.20GiB\u001b[0m  6447k m3u8  \u001b[0;34m│\u001b[0m avc1.64002A    6447k \u001b[0;90mvideo only\u001b[0m\n",
            "\u001b[0;32m299\u001b[0m     mp4   1920x1080   60    \u001b[0;34m│\u001b[0m    2.84GiB  5735k https \u001b[0;34m│\u001b[0m avc1.64002a    5735k \u001b[0;90mvideo only\u001b[0m          1080p60, mp4_dash\n",
            "\u001b[0;32m617\u001b[0m     mp4   1920x1080   60    \u001b[0;34m│\u001b[0m \u001b[0;90m~  5.43GiB\u001b[0m 10951k m3u8  \u001b[0;34m│\u001b[0m vp09.00.41.08 10951k \u001b[0;90mvideo only\u001b[0m\n",
            "\u001b[0;32m303\u001b[0m     webm  1920x1080   60    \u001b[0;34m│\u001b[0m    2.16GiB  4346k https \u001b[0;34m│\u001b[0m vp9            4346k \u001b[0;90mvideo only\u001b[0m          1080p60, webm_dash\n",
            "\u001b[0;32m623\u001b[0m     mp4   2560x1440   60    \u001b[0;34m│\u001b[0m \u001b[0;90m~  9.67GiB\u001b[0m 19502k m3u8  \u001b[0;34m│\u001b[0m vp09.00.50.08 19502k \u001b[0;90mvideo only\u001b[0m\n",
            "\u001b[0;32m308\u001b[0m     webm  2560x1440   60    \u001b[0;34m│\u001b[0m    6.00GiB 12089k https \u001b[0;34m│\u001b[0m vp9           12089k \u001b[0;90mvideo only\u001b[0m          1440p60, webm_dash\n",
            "\u001b[0;32m628\u001b[0m     mp4   3840x2160   60    \u001b[0;34m│\u001b[0m \u001b[0;90m~ 17.59GiB\u001b[0m 35472k m3u8  \u001b[0;34m│\u001b[0m vp09.00.51.08 35472k \u001b[0;90mvideo only\u001b[0m\n",
            "\u001b[0;32m315\u001b[0m     webm  3840x2160   60    \u001b[0;34m│\u001b[0m   11.91GiB 24021k https \u001b[0;34m│\u001b[0m vp9           24021k \u001b[0;90mvideo only\u001b[0m          2160p60, webm_dash\n"
          ]
        }
      ],
      "source": [
        "!yt-dlp -F \"https://www.youtube.com/watch?v=adrZBv0kQyg\""
      ]
    },
    {
      "cell_type": "markdown",
      "metadata": {
        "id": "Y9CZQ_xdhvh3"
      },
      "source": [
        "Let's load the format `299` - `1920x1080`, `60fps`. We will load the segment from `00:01:33` to `00:02:03`:"
      ]
    },
    {
      "cell_type": "code",
      "execution_count": null,
      "metadata": {
        "id": "w-_IeFKDhvh3",
        "trusted": true
      },
      "outputs": [],
      "source": [
        "!yt-dlp -f 299 --download-sections *00:01:33-00:02:03 -o road_video.mp4 https://www.youtube.com/watch\\?v\\=adrZBv0kQyg"
      ]
    },
    {
      "cell_type": "markdown",
      "metadata": {
        "id": "pbtD_Psrhvh3"
      },
      "source": [
        "Let's set the frame rate to `30fps` so that the boxes are smoother:"
      ]
    },
    {
      "cell_type": "code",
      "execution_count": null,
      "metadata": {
        "id": "Gf6M702Lhvh4",
        "trusted": true
      },
      "outputs": [],
      "source": [
        "!ffmpeg -i road_video.mp4 -an -c:v libx264 -preset fast -crf 23 -r 30 -y road_video_30fps.mp4"
      ]
    },
    {
      "cell_type": "markdown",
      "metadata": {
        "id": "9XHQ8aGrhvh4"
      },
      "source": [
        "Let's break the video down into individual frames:"
      ]
    },
    {
      "cell_type": "code",
      "execution_count": null,
      "metadata": {
        "execution": {
          "iopub.execute_input": "2025-04-09T15:26:14.515692Z",
          "iopub.status.busy": "2025-04-09T15:26:14.515352Z",
          "iopub.status.idle": "2025-04-09T15:26:25.590315Z",
          "shell.execute_reply": "2025-04-09T15:26:25.589296Z",
          "shell.execute_reply.started": "2025-04-09T15:26:14.515665Z"
        },
        "id": "3ig_jKn7hvh4",
        "trusted": true
      },
      "outputs": [],
      "source": [
        "video_path = 'road_video_30fps.mp4'\n",
        "input_dir = 'frames_raw'\n",
        "os.makedirs(input_dir, exist_ok=True)\n",
        "\n",
        "cap = cv2.VideoCapture(video_path)\n",
        "frame_idx = 0\n",
        "\n",
        "while True:\n",
        "  success, frame = cap.read()\n",
        "  if not success:\n",
        "    break\n",
        "  frame_path = os.path.join(input_dir, f'frame_{frame_idx:05d}.jpg')\n",
        "  cv2.imwrite(frame_path, frame)\n",
        "  frame_idx += 1\n",
        "\n",
        "cap.release()"
      ]
    },
    {
      "cell_type": "markdown",
      "metadata": {
        "id": "jDt8zEpHhvh4"
      },
      "source": [
        "<a name=\"step-22-applying-model-to-frames\"></a>\n",
        "<b><font size=3>**Step $2.2$:**</font></b>"
      ]
    },
    {
      "cell_type": "markdown",
      "metadata": {
        "id": "bbRF4n9khvh4"
      },
      "source": [
        "In this step, we will apply our SSD model to each frame.\n",
        "\n",
        "Let's load the model:"
      ]
    },
    {
      "cell_type": "code",
      "execution_count": null,
      "metadata": {
        "execution": {
          "iopub.execute_input": "2025-04-09T15:27:55.359012Z",
          "iopub.status.busy": "2025-04-09T15:27:55.358602Z",
          "iopub.status.idle": "2025-04-09T15:27:56.509748Z",
          "shell.execute_reply": "2025-04-09T15:27:56.508777Z",
          "shell.execute_reply.started": "2025-04-09T15:27:55.358974Z"
        },
        "id": "pR75UocOhvh4",
        "trusted": true
      },
      "outputs": [],
      "source": [
        "device = 'cuda'\n",
        "ckpt_path = 'checkpoints/best-retinanet-v1.ckpt'\n",
        "retinanet_model = RetinaNetLightningModel.load_from_checkpoint(\n",
        "    ckpt_path,\n",
        "    lr=1e-5,\n",
        "    weight_decay=1e-2\n",
        ")\n",
        "retinanet_model = retinanet_model.to(device).eval()"
      ]
    },
    {
      "cell_type": "markdown",
      "metadata": {
        "id": "tw08Nhh0hvh4"
      },
      "source": [
        "We will use a function to convert the source frames into frames with prediction boxes. We will need to stabilize the boxes because they may “jitter” due to prediction errors between neighboring frames. To do this, we will apply exponential smoothing to the detection boxes. It works as follows:\n",
        "\n",
        "* Predict the boxes for the new frame\n",
        "* For each of the boxes, we look for a box from the past with $IoU > 0.5$. We consider this to be the same object in the past\n",
        "* We mark the box from the past as used\n",
        "* We exponentially smooth the boxes and scores\n",
        "\n",
        "Now let's apply this function:"
      ]
    },
    {
      "cell_type": "code",
      "execution_count": null,
      "metadata": {
        "colab": {
          "referenced_widgets": [
            "731f02566be14ddf9b00cf76b4e08b26",
            "14fc91e208f34854bbb9acc6777b16ae"
          ]
        },
        "execution": {
          "iopub.execute_input": "2025-04-09T20:04:54.143279Z",
          "iopub.status.busy": "2025-04-09T20:04:54.142929Z",
          "iopub.status.idle": "2025-04-09T20:12:35.594752Z",
          "shell.execute_reply": "2025-04-09T20:12:35.593758Z",
          "shell.execute_reply.started": "2025-04-09T20:04:54.143253Z"
        },
        "id": "xFUKnVBshvh5",
        "outputId": "a97c4234-2bbd-473b-ff15-96b9e252e34c",
        "trusted": true
      },
      "outputs": [
        {
          "data": {
            "application/vnd.jupyter.widget-view+json": {
              "model_id": "731f02566be14ddf9b00cf76b4e08b26",
              "version_major": 2,
              "version_minor": 0
            },
            "text/plain": [
              "0it [00:00, ?it/s]"
            ]
          },
          "metadata": {},
          "output_type": "display_data"
        },
        {
          "data": {
            "application/vnd.jupyter.widget-view+json": {
              "model_id": "14fc91e208f34854bbb9acc6777b16ae",
              "version_major": 2,
              "version_minor": 0
            },
            "text/plain": [
              "0it [00:00, ?it/s]"
            ]
          },
          "metadata": {},
          "output_type": "display_data"
        }
      ],
      "source": [
        "write_frames_with_masks(\n",
        "     input_dir,\n",
        "     output_dir='frames_smoothed',\n",
        "     model=retinanet_model,\n",
        "     do_ewm_smoothing=True\n",
        ")\n",
        "\n",
        "write_frames_with_masks(\n",
        "     input_dir,\n",
        "     output_dir='frames_unsmoothed',\n",
        "     model=retinanet_model,\n",
        "     do_ewm_smoothing=False\n",
        ")"
      ]
    },
    {
      "cell_type": "markdown",
      "metadata": {
        "id": "o5yarv1GzC-u"
      },
      "source": [
        "<a name=\"step-23-combining-frames-into-final-video\"></a>\n",
        "<b><font size=3>**Step $2.3$:**</font></b>"
      ]
    },
    {
      "cell_type": "markdown",
      "metadata": {
        "id": "XPaZJa6Rhvh5"
      },
      "source": [
        "In this step, we will use a function to compile a video from frames with boxes.\n",
        "\n",
        "Let's apply this function with and without exponential smoothing:"
      ]
    },
    {
      "cell_type": "code",
      "execution_count": null,
      "metadata": {
        "colab": {
          "referenced_widgets": [
            "6756593fe4ce4284ab9e3428f4879158",
            "124a26fc9b154466b31e5a2be5da896d"
          ]
        },
        "execution": {
          "iopub.execute_input": "2025-04-09T20:12:52.393996Z",
          "iopub.status.busy": "2025-04-09T20:12:52.393631Z",
          "iopub.status.idle": "2025-04-09T20:13:48.720614Z",
          "shell.execute_reply": "2025-04-09T20:13:48.719883Z",
          "shell.execute_reply.started": "2025-04-09T20:12:52.393966Z"
        },
        "id": "BsKTXhqhhvh5",
        "outputId": "c3a0af65-1a4a-4bf8-8bba-60829da6743d",
        "trusted": true
      },
      "outputs": [
        {
          "data": {
            "application/vnd.jupyter.widget-view+json": {
              "model_id": "6756593fe4ce4284ab9e3428f4879158",
              "version_major": 2,
              "version_minor": 0
            },
            "text/plain": [
              "  0%|          | 0/902 [00:00<?, ?it/s]"
            ]
          },
          "metadata": {},
          "output_type": "display_data"
        },
        {
          "data": {
            "application/vnd.jupyter.widget-view+json": {
              "model_id": "124a26fc9b154466b31e5a2be5da896d",
              "version_major": 2,
              "version_minor": 0
            },
            "text/plain": [
              "  0%|          | 0/902 [00:00<?, ?it/s]"
            ]
          },
          "metadata": {},
          "output_type": "display_data"
        }
      ],
      "source": [
        "combine_frames_into_video(output_dir='frames_smoothed', video_name='road_video_30_fps_with_objects_smoothed')\n",
        "combine_frames_into_video(output_dir='frames_unsmoothed', video_name='road_video_30_fps_with_objects_unsmoothed')"
      ]
    },
    {
      "cell_type": "markdown",
      "metadata": {
        "id": "CuYp4XXQhvh5"
      },
      "source": [
        "Videos are available at [this link](https://drive.google.com/drive/folders/1DQuDF65cL2-g32aFht-sqq54833jYKMc?usp=sharing)"
      ]
    },
    {
      "cell_type": "markdown",
      "metadata": {
        "id": "yNhtKYYiF3Q8"
      },
      "source": [
        "![road-objects-detection-20fps](../images/road-objects-detection-20fps.gif)"
      ]
    }
  ],
  "metadata": {
    "colab": {
      "provenance": []
    },
    "kaggle": {
      "accelerator": "gpu",
      "dataSources": [
        {
          "datasetId": 966140,
          "sourceId": 1634186,
          "sourceType": "datasetVersion"
        },
        {
          "datasetId": 5490804,
          "sourceId": 9142529,
          "sourceType": "datasetVersion"
        }
      ],
      "dockerImageVersionId": 30919,
      "isGpuEnabled": true,
      "isInternetEnabled": true,
      "language": "python",
      "sourceType": "notebook"
    },
    "kernelspec": {
      "display_name": "Python 3",
      "name": "python3"
    },
    "language_info": {
      "codemirror_mode": {
        "name": "ipython",
        "version": 3
      },
      "file_extension": ".py",
      "mimetype": "text/x-python",
      "name": "python",
      "nbconvert_exporter": "python",
      "pygments_lexer": "ipython3",
      "version": "3.10.12"
    },
    "widgets": {
      "application/vnd.jupyter.widget-state+json": {}
    }
  },
  "nbformat": 4,
  "nbformat_minor": 0
}
